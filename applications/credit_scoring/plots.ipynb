{
 "cells": [
  {
   "cell_type": "code",
   "execution_count": null,
   "id": "43f44b3f",
   "metadata": {
    "vscode": {
     "languageId": "plaintext"
    }
   },
   "outputs": [],
   "source": [
    "gammas = [0.001, 0.01, 0.02, 0.1, 0.2, 0.5]\n",
    "results_1 = {}\n",
    "\n",
    "for gamma in gammas:\n",
    "    args.gamma = gamma\n",
    "\n",
    "    # Run PRC\n",
    "    output = run_trajectory(Y_cal, Y_proba, psi_fn)\n",
    "\n",
    "    results_1[gamma] = {\n",
    "        \"qbrm_at_lambda_t\": output[\"qbrm_at_lambda_t\"],\n",
    "        \"qbrm_at_lambda_tp1\": output[\"qbrm_at_lambda_tp1\"],\n",
    "        \"threshes\": output[\"threshes\"],\n",
    "    }\n"
   ]
  }
 ],
 "metadata": {
  "language_info": {
   "name": "python"
  }
 },
 "nbformat": 4,
 "nbformat_minor": 5
}
