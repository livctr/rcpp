{
 "cells": [
  {
   "cell_type": "code",
   "execution_count": 1,
   "id": "218ed5ea",
   "metadata": {},
   "outputs": [
    {
     "name": "stdout",
     "output_type": "stream",
     "text": [
      "/gpfs/home/vhl2022/projects/rcpp\n"
     ]
    }
   ],
   "source": [
    "%cd ../.."
   ]
  },
  {
   "cell_type": "code",
   "execution_count": 40,
   "id": "5d14e69b",
   "metadata": {},
   "outputs": [
    {
     "data": {
      "text/plain": [
       "timestamp         6.800427e+06\n",
       "percent_change   -3.547564e-02\n",
       "previous_close    9.637600e+04\n",
       "current_close     9.295700e+04\n",
       "dtype: float64"
      ]
     },
     "execution_count": 40,
     "metadata": {},
     "output_type": "execute_result"
    }
   ],
   "source": [
    "def largest_minute_percent_move(df_filtered: pd.DataFrame) -> pd.Series:\n",
    "    # Ensure data is sorted by time\n",
    "    df_sorted = df_filtered.sort_index()\n",
    "    \n",
    "    # Compute percent change in \"Close\" column\n",
    "    pct_change = df_sorted[\"Close\"].pct_change()\n",
    "    \n",
    "    # Get the row with the largest absolute percent change\n",
    "    max_change_idx = pct_change.abs().idxmax()\n",
    "    \n",
    "    # Return the relevant row and percentage change\n",
    "    return pd.Series({\n",
    "        \"timestamp\": max_change_idx,\n",
    "        \"percent_change\": pct_change.loc[max_change_idx],\n",
    "        \"previous_close\": df_sorted[\"Close\"].shift(1).loc[max_change_idx],\n",
    "        \"current_close\": df_sorted[\"Close\"].loc[max_change_idx],\n",
    "    })\n",
    "\n",
    "largest_move = largest_minute_percent_move(df_filtered)\n",
    "largest_move"
   ]
  },
  {
   "cell_type": "code",
   "execution_count": null,
   "id": "29cffd1a",
   "metadata": {},
   "outputs": [],
   "source": []
  },
  {
   "cell_type": "markdown",
   "id": "da81bf7c",
   "metadata": {},
   "source": [
    "# Filtered Data"
   ]
  },
  {
   "cell_type": "code",
   "execution_count": null,
   "id": "8714042b",
   "metadata": {},
   "outputs": [],
   "source": [
    "# df_filtered.to_csv(\"btcusd_1-min_data_filtered.csv\", index=False)"
   ]
  },
  {
   "cell_type": "code",
   "execution_count": 6,
   "id": "d80e472e",
   "metadata": {},
   "outputs": [
    {
     "data": {
      "text/html": [
       "<div>\n",
       "<style scoped>\n",
       "    .dataframe tbody tr th:only-of-type {\n",
       "        vertical-align: middle;\n",
       "    }\n",
       "\n",
       "    .dataframe tbody tr th {\n",
       "        vertical-align: top;\n",
       "    }\n",
       "\n",
       "    .dataframe thead th {\n",
       "        text-align: right;\n",
       "    }\n",
       "</style>\n",
       "<table border=\"1\" class=\"dataframe\">\n",
       "  <thead>\n",
       "    <tr style=\"text-align: right;\">\n",
       "      <th></th>\n",
       "      <th>Timestamp</th>\n",
       "      <th>Close</th>\n",
       "    </tr>\n",
       "  </thead>\n",
       "  <tbody>\n",
       "    <tr>\n",
       "      <th>0</th>\n",
       "      <td>1.672531e+09</td>\n",
       "      <td>16568.0</td>\n",
       "    </tr>\n",
       "    <tr>\n",
       "      <th>1</th>\n",
       "      <td>1.672531e+09</td>\n",
       "      <td>16569.0</td>\n",
       "    </tr>\n",
       "    <tr>\n",
       "      <th>2</th>\n",
       "      <td>1.672531e+09</td>\n",
       "      <td>16569.0</td>\n",
       "    </tr>\n",
       "    <tr>\n",
       "      <th>3</th>\n",
       "      <td>1.672531e+09</td>\n",
       "      <td>16568.0</td>\n",
       "    </tr>\n",
       "    <tr>\n",
       "      <th>4</th>\n",
       "      <td>1.672531e+09</td>\n",
       "      <td>16565.0</td>\n",
       "    </tr>\n",
       "  </tbody>\n",
       "</table>\n",
       "</div>"
      ],
      "text/plain": [
       "      Timestamp    Close\n",
       "0  1.672531e+09  16568.0\n",
       "1  1.672531e+09  16569.0\n",
       "2  1.672531e+09  16569.0\n",
       "3  1.672531e+09  16568.0\n",
       "4  1.672531e+09  16565.0"
      ]
     },
     "execution_count": 6,
     "metadata": {},
     "output_type": "execute_result"
    }
   ],
   "source": [
    "import pandas as pd\n",
    "df = pd.read_csv(\"./applications/market_making/data/btcusd_1-min_data_filtered.csv\")\n",
    "df.head()"
   ]
  },
  {
   "cell_type": "code",
   "execution_count": 7,
   "id": "19e4f150",
   "metadata": {},
   "outputs": [],
   "source": [
    "target = (df[\"Close\"].shift(-1) / df[\"Close\"]) * 100000"
   ]
  },
  {
   "cell_type": "code",
   "execution_count": 9,
   "id": "e41cb993",
   "metadata": {},
   "outputs": [
    {
     "data": {
      "text/plain": [
       "np.float64(4520.779777520369)"
      ]
     },
     "execution_count": 9,
     "metadata": {},
     "output_type": "execute_result"
    }
   ],
   "source": [
    "import numpy as np\n",
    "np.var(target - 100000, ddof=1)"
   ]
  },
  {
   "cell_type": "code",
   "execution_count": null,
   "id": "52326734",
   "metadata": {},
   "outputs": [],
   "source": []
  },
  {
   "cell_type": "code",
   "execution_count": null,
   "id": "742823d8",
   "metadata": {},
   "outputs": [],
   "source": [
    "import matplotlib.pyplot as plt\n",
    "from scipy.stats import norm\n",
    "import numpy as np\n",
    "\n",
    "\n",
    "def compute_loss(df_filtered: pd.DataFrame, lambda_: float, RHO: float, SIGMA: float, filter_nans: bool = True) -> np.ndarray:\n",
    "    \"\"\"Given a DataFrame with 'Close' prices, compute the profit.\"\"\"\n",
    "    df = df_filtered.copy()\n",
    "\n",
    "    # Compute target: normalize current price to 100k, then scale next_close accordingly\n",
    "    target = (df[\"Close\"].shift(-1) / df[\"Close\"]) * 100000\n",
    "\n",
    "    # Compute prediction: average of current and previous 4 closes. Assume simple mean model.\n",
    "    pred = df[\"Close\"].rolling(window=5).mean() / df[\"Close\"] * 100000\n",
    "\n",
    "    bid = pred - RHO * lambda_ / 2\n",
    "    ask = pred + RHO * lambda_ / 2\n",
    "\n",
    "    # Assume investor belief is a normal distribution with mean df['target'] and std SIGMA\n",
    "    volume_on_bid = norm.cdf(bid, loc=target, scale=SIGMA)\n",
    "    volume_on_ask = 1 - norm.cdf(ask, loc=target, scale=SIGMA)\n",
    "\n",
    "    profit = volume_on_bid * (target - bid) + volume_on_ask * (ask - target)\n",
    "    loss = - profit\n",
    "\n",
    "    if filter_nans:\n",
    "        loss = loss[~np.isnan(loss)]\n",
    "\n",
    "    return np.array(loss)\n"
   ]
  },
  {
   "cell_type": "code",
   "execution_count": 102,
   "id": "4f3f6bee",
   "metadata": {},
   "outputs": [],
   "source": [
    "# Spread, assuming bitcoin is normalized to 100k\n",
    "# Std of price beliefs, assuming bitcoin is normalized\n",
    "        \n",
    "rho, sigma = 100, 200\n",
    "delta_prime = 0.5"
   ]
  },
  {
   "cell_type": "code",
   "execution_count": 103,
   "id": "57f8517a",
   "metadata": {},
   "outputs": [
    {
     "data": {
      "text/plain": [
       "[<matplotlib.lines.Line2D at 0x15550cfc7320>]"
      ]
     },
     "execution_count": 103,
     "metadata": {},
     "output_type": "execute_result"
    },
    {
     "data": {
      "image/png": "[encoded data removed]",
      "text/plain": [
       "<Figure size 640x480 with 1 Axes>"
      ]
     },
     "metadata": {},
     "output_type": "display_data"
    }
   ],
   "source": [
    "plt.plot(df_filtered[mask]['Close'])"
   ]
  },
  {
   "cell_type": "code",
   "execution_count": 108,
   "id": "1b91b62e",
   "metadata": {},
   "outputs": [
    {
     "name": "stdout",
     "output_type": "stream",
     "text": [
      "20.771946373157096\n",
      "-20.28840974985965\n"
     ]
    }
   ],
   "source": [
    "print(np.mean(compute_loss(df_filtered[mask], 0.0, rho, sigma)))\n",
    "print(np.mean(compute_loss(df_filtered[mask], 1.0, rho, sigma)))"
   ]
  },
  {
   "cell_type": "code",
   "execution_count": null,
   "id": "8a19341b",
   "metadata": {},
   "outputs": [],
   "source": []
  },
  {
   "cell_type": "code",
   "execution_count": 109,
   "id": "d9328f21",
   "metadata": {},
   "outputs": [
    {
     "name": "stdout",
     "output_type": "stream",
     "text": [
      "Variance of profit in January 2023: [np.float64(0.2268354353113778), np.float64(0.2268349463797402), np.float64(0.22683347959716177), np.float64(0.2268310350006459), np.float64(0.22682761265186305), np.float64(0.22682321263714877), np.float64(0.22681783506749986), np.float64(0.22681148007857058), np.float64(0.22680414783066688), np.float64(0.2267958385087407), np.float64(0.22678655232238232), np.float64(0.22677628950581272), np.float64(0.22676505031787392), np.float64(0.22675283504201937), np.float64(0.2267396439863029), np.float64(0.2267254774833667), np.float64(0.22671033589042813), np.float64(0.22669421958926655), np.float64(0.2266771289862078), np.float64(0.22665906451210893), np.float64(0.22664002662234117), np.float64(0.22662001579677252), np.float64(0.22659903253974895), np.float64(0.2265770773800748), np.float64(0.22655415087099257), np.float64(0.22653025359016107), np.float64(0.2265053861396333), np.float64(0.226479549145833), np.float64(0.22645274325953021), np.float64(0.22642496915581634), np.float64(0.22639622753407765), np.float64(0.22636651911796826), np.float64(0.22633584465538228), np.float64(0.22630420491842435), np.float64(0.22627160070338007), np.float64(0.22623803283068492), np.float64(0.22620350214489274), np.float64(0.22616800951464222), np.float64(0.2261315558326243), np.float64(0.22609414201554637), np.float64(0.22605576900409777), np.float64(0.22601643776291247), np.float64(0.22597614928053217), np.float64(0.22593490456936777), np.float64(0.2258927046656599), np.float64(0.22584955062943915), np.float64(0.2258054435444846), np.float64(0.22576038451828184), np.float64(0.2257143746819803), np.float64(0.22566741519034872), np.float64(0.22561950722173113), np.float64(0.22557065197800052), np.float64(0.22552085068451255), np.float64(0.225470104590058), np.float64(0.22541841496681406), np.float64(0.22536578311029526), np.float64(0.2253122103393031), np.float64(0.22525769799587483), np.float64(0.22520224744523168), np.float64(0.22514586007572526), np.float64(0.2250885372987845), np.float64(0.22503028054886018), np.float64(0.22497109128336992), np.float64(0.22491097098264093), np.float64(0.2248499211498533), np.float64(0.2247879433109811), np.float64(0.22472503901473354), np.float64(0.22466120983249474), np.float64(0.2245964573582628), np.float64(0.22453078320858788), np.float64(0.22446418902250959), np.float64(0.2243966764614935), np.float64(0.22432824720936617), np.float64(0.22425890297225048), np.float64(0.22418864547849915), np.float64(0.22411747647862754), np.float64(0.22404539774524582), np.float64(0.22397241107299046), np.float64(0.2238985182784541), np.float64(0.2238237212001157), np.float64(0.22374802169826852), np.float64(0.22367142165494844), np.float64(0.22359392297386077), np.float64(0.22351552758030635), np.float64(0.22343623742110696), np.float64(0.22335605446452966), np.float64(0.22327498070021043), np.float64(0.2231930181390771), np.float64(0.22311016881327128), np.float64(0.22302643477606934), np.float64(0.22294181810180294), np.float64(0.22285632088577856), np.float64(0.22276994524419583), np.float64(0.22268269331406618), np.float64(0.2225945672531291), np.float64(0.22250556923976866), np.float64(0.2224157014729295), np.float64(0.22232496617203074), np.float64(0.2222333655768804), np.float64(0.22214090194758818), np.float64(0.22204757756447802)]\n"
     ]
    }
   ],
   "source": [
    "# On the first month in 2023, compute the variance\n",
    "index = pd.to_datetime(df_filtered['Timestamp'], unit='s')\n",
    "start_date = pd.Timestamp('2023-01-01')\n",
    "end_date = pd.Timestamp('2023-01-31')\n",
    "mask = (index >= start_date) & (index <= end_date)\n",
    "\n",
    "lambdas = np.linspace(0.0, 1.0, 101)\n",
    "\n",
    "clt_bounds = []\n",
    "for lambda_ in lambdas:\n",
    "    tp_jan = compute_loss(df_filtered[mask], lambda_, rho, sigma)\n",
    "    clt_var = np.var(tp_jan, ddof=1)\n",
    "    clt_bound = norm.ppf(1 - delta_prime / 2) * np.sqrt(clt_var) / np.sqrt(len(tp_jan))\n",
    "    clt_bounds.append(clt_bound)\n",
    "\n",
    "print(f\"Variance of profit in January 2023: {clt_bounds}\")"
   ]
  },
  {
   "cell_type": "code",
   "execution_count": 112,
   "id": "74b0e985",
   "metadata": {},
   "outputs": [
    {
     "data": {
      "text/plain": [
       "array([-39.06029378, -39.46910151, -39.86187942, ..., -38.64955673,\n",
       "       -38.09248044, -40.08458233], shape=(43196,))"
      ]
     },
     "execution_count": 112,
     "metadata": {},
     "output_type": "execute_result"
    }
   ],
   "source": [
    "tp_jan"
   ]
  },
  {
   "cell_type": "code",
   "execution_count": 111,
   "id": "901b300a",
   "metadata": {},
   "outputs": [
    {
     "data": {
      "text/plain": [
       "[<matplotlib.lines.Line2D at 0x155507a74530>]"
      ]
     },
     "execution_count": 111,
     "metadata": {},
     "output_type": "execute_result"
    },
    {
     "data": {
      "image/png": "[encoded data removed]",
      "text/plain": [
       "<Figure size 640x480 with 1 Axes>"
      ]
     },
     "metadata": {},
     "output_type": "display_data"
    }
   ],
   "source": [
    "plt.plot(lambdas, clt_bounds)"
   ]
  },
  {
   "cell_type": "code",
   "execution_count": 79,
   "id": "0d7ecdd8",
   "metadata": {},
   "outputs": [
    {
     "name": "stdout",
     "output_type": "stream",
     "text": [
      "27.74274898045471\n",
      "18.089029492844087\n",
      "4.902926570654566\n",
      "-6.746475474876325\n",
      "-13.674295895835748\n"
     ]
    }
   ],
   "source": [
    "print(np.nanmean(compute_loss(df_filtered, 0.0)))\n",
    "print(np.nanmean(compute_loss(df_filtered, 0.2)))\n",
    "print(np.nanmean(compute_loss(df_filtered, 0.5)))\n",
    "print(np.nanmean(compute_loss(df_filtered, 0.8)))\n",
    "print(np.nanmean(compute_loss(df_filtered, 1.0)))"
   ]
  }
 ],
 "metadata": {
  "kernelspec": {
   "display_name": "rcpp",
   "language": "python",
   "name": "python3"
  },
  "language_info": {
   "codemirror_mode": {
    "name": "ipython",
    "version": 3
   },
   "file_extension": ".py",
   "mimetype": "text/x-python",
   "name": "python",
   "nbconvert_exporter": "python",
   "pygments_lexer": "ipython3",
   "version": "3.12.9"
  }
 },
 "nbformat": 4,
 "nbformat_minor": 5
}
