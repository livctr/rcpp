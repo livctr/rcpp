{
 "cells": [
  {
   "cell_type": "markdown",
   "metadata": {},
   "source": [
    "# Stability"
   ]
  },
  {
   "cell_type": "code",
   "execution_count": 1,
   "metadata": {},
   "outputs": [],
   "source": [
    "# %load_ext autoreload\n",
    "# %autoreload 2\n",
    "\n",
    "import numpy as np\n",
    "import matplotlib.pyplot as plt\n",
    "from sklearn.model_selection import train_test_split\n",
    "from sklearn.linear_model import LogisticRegression\n",
    "\n",
    "%matplotlib inline"
   ]
  },
  {
   "cell_type": "markdown",
   "metadata": {},
   "source": [
    "### Config"
   ]
  },
  {
   "cell_type": "code",
   "execution_count": 41,
   "metadata": {},
   "outputs": [],
   "source": [
    "# Experimental setup arguments\n",
    "\n",
    "class args:\n",
    "\n",
    "    alpha = 0.2\n",
    "\n",
    "    delta = 0.1\n",
    "\n",
    "    epsilon = 0.01\n",
    "\n",
    "    tau = 0.1\n",
    "\n",
    "    lambda_max = 1.0\n",
    "\n",
    "    L = 5.0\n",
    "\n",
    "    T = 5  # number of iterations\n",
    "\n",
    "    N = 10000  # number of samples in cohort"
   ]
  },
  {
   "cell_type": "markdown",
   "metadata": {},
   "source": [
    "### Model"
   ]
  },
  {
   "cell_type": "code",
   "execution_count": 42,
   "metadata": {},
   "outputs": [
    {
     "name": "stdout",
     "output_type": "stream",
     "text": [
      "d= 10\n"
     ]
    }
   ],
   "source": [
    "from data_prep import load_data\n",
    "\n",
    "path_to_csv_file = './data/cs-training.csv'\n",
    "X_all, Y_all, data = load_data(path_to_csv_file)\n",
    "\n",
    "n_training = 3000\n",
    "X_train, X_rest, Y_train, Y_rest = train_test_split(X_all, Y_all, train_size=n_training, random_state=42)\n",
    "\n",
    "d = X_all.shape[1] - 1\n",
    "print('d=',d)\n",
    "\n",
    "del X_all, Y_all"
   ]
  },
  {
   "cell_type": "code",
   "execution_count": 43,
   "metadata": {},
   "outputs": [],
   "source": [
    "import numpy as np\n",
    "\n",
    "def subsample_by_N_and_percentage(X_rest, Y_rest, N, perc_ones, random_state=None):\n",
    "    \"\"\"\n",
    "    Subsamples X_rest and Y_rest to produce a sample of size N with approximately the given percentage of ones.\n",
    "    If there are not enough data points to reach N while respecting the percentage, the function reduces\n",
    "    the sample size accordingly.\n",
    "    \n",
    "    Parameters:\n",
    "      X_rest (np.ndarray): Array of features with shape (total_samples, ...).\n",
    "      Y_rest (np.ndarray): Binary target array with shape (total_samples,).\n",
    "      N (int): Desired sample size.\n",
    "      perc_ones (float): Desired fraction of ones in the sample (e.g., 0.1 for 10% ones).\n",
    "      random_state (int, optional): Seed for reproducibility.\n",
    "      \n",
    "    Returns:\n",
    "      X_sample (np.ndarray): Subsampled features.\n",
    "      Y_sample (np.ndarray): Subsampled binary targets with the desired class distribution.\n",
    "    \"\"\"\n",
    "    # Set random seed for reproducibility if provided.\n",
    "    if random_state is not None:\n",
    "        np.random.seed(random_state)\n",
    "    \n",
    "    # Find indices for ones and zeros.\n",
    "    ones_idx = np.where(Y_rest == 1)[0]\n",
    "    zeros_idx = np.where(Y_rest == 0)[0]\n",
    "    \n",
    "    available_ones = len(ones_idx)\n",
    "    available_zeros = len(zeros_idx)\n",
    "    \n",
    "    # Calculate desired numbers based on N and perc_ones.\n",
    "    desired_n_ones = int(round(N * perc_ones))\n",
    "    desired_n_zeros = N - desired_n_ones\n",
    "    \n",
    "    # Check if there are enough data points available.\n",
    "    if available_ones < desired_n_ones or available_zeros < desired_n_zeros:\n",
    "        # Compute the maximum number of ones that can be drawn while respecting the ratio.\n",
    "        # For desired ratio: zeros/ones = (1 - perc_ones) / perc_ones.\n",
    "        # We cannot have more than available_ones, and we also cannot use more zeros than available.\n",
    "        max_n_ones_by_zeros = available_zeros * perc_ones / (1 - perc_ones) if perc_ones < 1 else available_ones\n",
    "        new_n_ones = int(min(available_ones, max_n_ones_by_zeros))\n",
    "        new_n_zeros = int(min(available_zeros, new_n_ones * (1 - perc_ones) / perc_ones))\n",
    "        new_N = new_n_ones + new_n_zeros\n",
    "        print(\"Not enough data points to achieve desired sample size. Reducing sample size to\", new_N)\n",
    "        desired_n_ones = new_n_ones\n",
    "        desired_n_zeros = new_n_zeros\n",
    "        N = new_N  # new sample size\n",
    "    \n",
    "    # Randomly choose indices for each class.\n",
    "    selected_ones = np.random.choice(ones_idx, size=desired_n_ones, replace=False)\n",
    "    selected_zeros = np.random.choice(zeros_idx, size=desired_n_zeros, replace=False)\n",
    "    \n",
    "    # Combine and sort indices if order matters.\n",
    "    selected_indices = np.concatenate([selected_zeros, selected_ones])\n",
    "    selected_indices.sort()\n",
    "    \n",
    "    return X_rest[selected_indices], Y_rest[selected_indices]\n"
   ]
  },
  {
   "cell_type": "code",
   "execution_count": 44,
   "metadata": {},
   "outputs": [],
   "source": [
    "# X_cv, Y_cv = subsample_by_N_and_percentage(X_rest, Y_rest, args.N, 0.01, random_state=42)\n",
    "X_cv, Y_cv = X_rest, Y_rest"
   ]
  },
  {
   "cell_type": "code",
   "execution_count": 45,
   "metadata": {},
   "outputs": [
    {
     "name": "stdout",
     "output_type": "stream",
     "text": [
      "Strategic Features: \n",
      "\n",
      "0 RevolvingUtilizationOfUnsecuredLines\n",
      "1 NumberOfOpenCreditLinesAndLoans\n",
      "2 NumberRealEstateLoansOrLines\n"
     ]
    }
   ],
   "source": [
    "# strategic feature indices\n",
    "strat_features = np.array([1, 6, 8]) - 1 # for later\n",
    "\n",
    "print('Strategic Features: \\n')\n",
    "for i, feature in enumerate(strat_features):\n",
    "    print(i, data.columns[feature + 1])\n",
    "\n",
    "# # zero out non-strategic features\n",
    "# assert model.coef_.shape == (1, d+1) \n",
    "# strat_coef = np.zeros((1, d+1))\n",
    "# strat_coef[0, strat_features] = model.coef_[0, strat_features]"
   ]
  },
  {
   "cell_type": "code",
   "execution_count": 46,
   "metadata": {},
   "outputs": [],
   "source": [
    "def train_logistic_regression(X, Y, **kwargs):\n",
    "    # fit_intercept=False since X already has bias term\n",
    "    model = LogisticRegression(fit_intercept=False, **kwargs)  # intercept pre-built in X\n",
    "    model.fit(X, Y)\n",
    "    assert model.classes_[0] == 0 and model.classes_[1] == 1\n",
    "    return model"
   ]
  },
  {
   "cell_type": "code",
   "execution_count": 47,
   "metadata": {},
   "outputs": [
    {
     "name": "stdout",
     "output_type": "stream",
     "text": [
      "[[-0.08785477 -0.44654791  1.48411659 -0.01750689 -0.60362931 -0.01524101\n",
      "   0.67575508  0.11395415 -0.42184472  0.0886493  -0.37755321]]\n"
     ]
    }
   ],
   "source": [
    "model = train_logistic_regression(X_train, Y_train)\n",
    "# example_thresh = 0.5\n",
    "# Y_proba = model.predict_proba(X_train)[:,1]\n",
    "# Y_pred = Y_proba > example_thresh\n",
    "print(model.coef_)"
   ]
  },
  {
   "cell_type": "code",
   "execution_count": 48,
   "metadata": {},
   "outputs": [
    {
     "name": "stdout",
     "output_type": "stream",
     "text": [
      "[0.28702473 0.52977221 0.39262347 0.4731173  0.63574556]\n"
     ]
    }
   ],
   "source": [
    "res = model.predict_proba(X_train)[:,1]\n",
    "print(res[:5])"
   ]
  },
  {
   "cell_type": "code",
   "execution_count": 49,
   "metadata": {},
   "outputs": [],
   "source": [
    "res.sort()"
   ]
  },
  {
   "cell_type": "code",
   "execution_count": 50,
   "metadata": {},
   "outputs": [
    {
     "data": {
      "text/plain": [
       "np.float64(0.009084435130568114)"
      ]
     },
     "execution_count": 50,
     "metadata": {},
     "output_type": "execute_result"
    }
   ],
   "source": [
    "res = model.predict_proba(X_cv)[:,1]\n",
    "res.sort()\n",
    "# max difference\n",
    "np.max(res[1:] - res[:-1])"
   ]
  },
  {
   "cell_type": "markdown",
   "metadata": {},
   "source": [
    "### Set up\n",
    "\n"
   ]
  },
  {
   "cell_type": "code",
   "execution_count": 72,
   "metadata": {},
   "outputs": [],
   "source": [
    "from typing import Union\n",
    "\n",
    "import numpy as np\n",
    "from sklearn.linear_model import LogisticRegression\n",
    "\n",
    "import numpy as np\n",
    "import matplotlib.pyplot as plt\n",
    "from sklearn.model_selection import train_test_split\n",
    "from sklearn.linear_model import LogisticRegression\n",
    "\n",
    "\n",
    "\n",
    "def type_II_error(Y, Y_proba, threshold):\n",
    "    \"\"\"Y=actual, Y_proba=predicted probability, threshold=threshold\"\"\"\n",
    "    if len(Y.shape) != 1:\n",
    "        Y = Y.reshape(-1,)\n",
    "    if len(Y_proba.shape) != 1:\n",
    "        Y_proba = Y_proba.reshape(-1,)\n",
    "    return np.mean((Y == 1) * (Y_proba < 1 - threshold))\n",
    "\n",
    "\n",
    "def piecewise_fn(Y_proba: np.ndarray, thresh: int):\n",
    "    # clipping assumes loss btwn 0 and 1\n",
    "\n",
    "    # lower_bound = (1 - thresh) - 1 / args.L\n",
    "    # upper_bound = 1 - thresh\n",
    "    # y = np.where(Y_proba < lower_bound, 1, \n",
    "    #              np.where(Y_proba > upper_bound, 0, \n",
    "    #                       1 - args.L * (Y_proba - (1 - thresh) + 1 / args.L)))\n",
    "\n",
    "    # Optimization 1: use np.clip\n",
    "    # y = np.clip(1 - args.L * (Y_proba - (1 - thresh) + 1 / args.L), 0, 1)\n",
    "\n",
    "    # Optimization 2: compute less\n",
    "    if len(Y_proba.shape) != 1:\n",
    "        Y_proba = Y_proba.reshape(-1,)\n",
    "    return np.clip(args.L * (1 - thresh - Y_proba), 0, 1)\n",
    "\n",
    "\n",
    "def piecewise_loss(Y, Y_proba, thresh):\n",
    "    if len(Y.shape) != 1:\n",
    "        Y = Y.reshape(-1,)\n",
    "    if len(Y_proba.shape) != 1:\n",
    "        Y_proba = Y_proba.reshape(-1,)\n",
    "    return ((Y == 1) * piecewise_fn(Y_proba, thresh)).reshape(-1,)\n",
    "\n",
    "\n",
    "def surrogate_loss(Y, Y_proba, thresh):\n",
    "    \"\"\"l_{\\tilde}\"\"\"\n",
    "    return piecewise_loss(Y, Y_proba, thresh) + args.tau * (args.lambda_max - thresh)"
   ]
  },
  {
   "cell_type": "code",
   "execution_count": null,
   "metadata": {},
   "outputs": [],
   "source": [
    "def get_next_thresh(loss_fn, Y, Y_proba, init_range=None, tol=1e-5, max_iter=30):\n",
    "\n",
    "    # Choose two initial guesses.\n",
    "    if init_range is None:\n",
    "        t0, t1 = 0.0, 1.0\n",
    "    else:\n",
    "        t0 = max(0.0, init_range[0])\n",
    "        t1 = min(1.0, init_range[1])\n",
    "    \n",
    "    f0, f1 = loss_fn(t0), loss_fn(t1)\n",
    "    \n",
    "    # If either guess is already close enough, return it.\n",
    "    if abs(f0) < tol:\n",
    "        return t0\n",
    "    if abs(f1) < tol:\n",
    "        return t1\n",
    "\n",
    "    for _ in range(max_iter):\n",
    "        # Prevent division by zero if f1 == f0.\n",
    "        if f1 - f0 == 0:\n",
    "            break\n",
    "\n",
    "        # Secant update.\n",
    "        t_new = t1 - f1 * (t1 - t0) / (f1 - f0)\n",
    "        # Ensure t_new stays within [0, 1].\n",
    "        t_new = np.clip(t_new, 0.0, 1.0)\n",
    "        \n",
    "        f_new = f(t_new)\n",
    "        if abs(f_new) < tol:\n",
    "            return t_new\n",
    "        \n",
    "        # Update our guesses.\n",
    "        t0, f0 = t1, f1\n",
    "        t1, f1 = t_new, f_new\n",
    "\n",
    "    return t1\n"
   ]
  },
  {
   "cell_type": "code",
   "execution_count": null,
   "metadata": {},
   "outputs": [],
   "source": []
  },
  {
   "cell_type": "code",
   "execution_count": 85,
   "metadata": {},
   "outputs": [],
   "source": [
    "def get_new_features(X, model, thresh):\n",
    "    # toy \"optimization\", either stay w/ current features or move by epsilon\n",
    "    # to new features, depending on which has higher utility cost\n",
    "\n",
    "    s = np.abs(model.coef_).argmax()\n",
    "    onehot = np.zeros((1, len(model.coef_[0])))\n",
    "    onehot[0, s] = 1\n",
    "    sign = np.sign(model.coef_[0, s])\n",
    "\n",
    "    # utility of not moving\n",
    "    stay_utility_cost = np.squeeze(1 - piecewise_fn(model.predict_proba(X)[:,1], thresh))\n",
    "\n",
    "    # utility of moving by epsilon\n",
    "    X_move = X + sign * args.epsilon * onehot\n",
    "\n",
    "    move_utility = np.squeeze(1 - piecewise_fn(model.predict_proba(X_move)[:,1], thresh))\n",
    "    move_cost = (1 / (2 * args.epsilon / args.L) * np.square(X_move - X)).sum(axis=1)\n",
    "    move_utility_cost = move_utility - move_cost\n",
    "\n",
    "    mask = move_utility_cost > stay_utility_cost\n",
    "\n",
    "    result = np.where(mask[:, np.newaxis], X_move, X)\n",
    "    return result\n"
   ]
  },
  {
   "cell_type": "code",
   "execution_count": 86,
   "metadata": {},
   "outputs": [],
   "source": [
    "from tqdm import tqdm"
   ]
  },
  {
   "cell_type": "code",
   "execution_count": 87,
   "metadata": {},
   "outputs": [],
   "source": [
    "def run_iters(X, Y, verbose=False):\n",
    "\n",
    "    losses = []\n",
    "    threshes = []\n",
    "\n",
    "    thresh = args.lambda_max\n",
    "    thresh_diff = args.lambda_max\n",
    "\n",
    "    iters = tqdm(range(args.T)) if verbose else range(args.T)\n",
    "\n",
    "    for _ in iters:\n",
    "\n",
    "        # Deploy threshold\n",
    "        X_i = get_new_features(X, model, thresh)\n",
    "        Y_proba = model.predict_proba(X_i)[:,1]\n",
    "\n",
    "        # Calculate loss\n",
    "        loss_i = piecewise_loss(Y, Y_proba, thresh).mean()\n",
    "\n",
    "        # Update to new threshold, expect thresh difference to continue decreasing\n",
    "        thresh_new = get_next_thresh(Y,\n",
    "                                     Y_proba,\n",
    "                                     init_range=(thresh - thresh_diff, thresh + thresh_diff),)\n",
    "        thresh_diff = abs(thresh - thresh_new)\n",
    "        thresh = thresh_new\n",
    "\n",
    "        losses.append(loss_i)\n",
    "        threshes.append(thresh)\n",
    "\n",
    "    return thresh, losses, threshes"
   ]
  },
  {
   "cell_type": "code",
   "execution_count": 88,
   "metadata": {},
   "outputs": [],
   "source": [
    "import numpy as np\n",
    "\n",
    "def simulate_thresh_sensitivity(X_cv, Y_cv, num_trials=2):\n",
    "    # Run on the full dataset to get the original threshold.\n",
    "    orig_thresh, _, _ = run_iters(X_cv, Y_cv)\n",
    "\n",
    "    thresh_list = []\n",
    "    n = len(X_cv)\n",
    "    \n",
    "    # Ensure we don't exceed the number of available points.\n",
    "    if num_trials > n:\n",
    "        raise ValueError(\"num_trials cannot exceed the number of data points in X_cv.\")\n",
    "\n",
    "    # Get a random permutation of indices and select the first num_trials indices\n",
    "    indices = np.random.permutation(n)[:num_trials]\n",
    "\n",
    "    for idx in tqdm(indices):\n",
    "        # Remove the selected data point from X_cv and Y_cv\n",
    "        X_new = np.delete(X_cv, idx, axis=0)\n",
    "        Y_new = np.delete(Y_cv, idx, axis=0)\n",
    "        \n",
    "        # Run run_iters on the modified dataset\n",
    "        new_thresh, _, _ = run_iters(X_new, Y_new)\n",
    "        thresh_list.append(new_thresh)\n",
    "    \n",
    "    # Convert to a NumPy array for vectorized operations\n",
    "    thresh_array = np.array(thresh_list)\n",
    "    \n",
    "    # Calculate the maximum absolute difference from the original threshold\n",
    "    max_diff = np.max(np.abs(thresh_array - orig_thresh))\n",
    "    \n",
    "    return max_diff\n"
   ]
  },
  {
   "cell_type": "code",
   "execution_count": 90,
   "metadata": {},
   "outputs": [],
   "source": [
    "args.T = 5"
   ]
  },
  {
   "cell_type": "code",
   "execution_count": 95,
   "metadata": {},
   "outputs": [
    {
     "name": "stderr",
     "output_type": "stream",
     "text": [
      "100%|██████████| 5/5 [00:00<00:00, 267.80it/s]"
     ]
    },
    {
     "name": "stdout",
     "output_type": "stream",
     "text": [
      "[np.float64(0.4533964403486482), np.float64(0.4533964403486482), np.float64(0.4533964403486482), np.float64(0.4533964403486482), np.float64(0.4533964403486482)]\n"
     ]
    },
    {
     "name": "stderr",
     "output_type": "stream",
     "text": [
      "\n"
     ]
    }
   ],
   "source": [
    "args.T = 5\n",
    "thresh, losses, threshes = run_iters(X_cv, Y_cv, verbose=True)\n",
    "print(threshes)"
   ]
  },
  {
   "cell_type": "code",
   "execution_count": 98,
   "metadata": {},
   "outputs": [
    {
     "data": {
      "text/plain": [
       "np.float64(0.4533964403486482)"
      ]
     },
     "execution_count": 98,
     "metadata": {},
     "output_type": "execute_result"
    }
   ],
   "source": [
    "threshes[0]"
   ]
  },
  {
   "cell_type": "code",
   "execution_count": 115,
   "metadata": {},
   "outputs": [],
   "source": [
    "y_hat = model.predict_proba(X_cv)[:,1]\n",
    "indicator = Y_cv * ((1 - threshes[0]) - 1 / args.L < y_hat) * (y_hat < 1 - threshes[0])"
   ]
  },
  {
   "cell_type": "code",
   "execution_count": 116,
   "metadata": {},
   "outputs": [
    {
     "data": {
      "text/plain": [
       "np.float64(0.18675522563000585)"
      ]
     },
     "execution_count": 116,
     "metadata": {},
     "output_type": "execute_result"
    }
   ],
   "source": [
    "indicator.mean()"
   ]
  },
  {
   "cell_type": "code",
   "execution_count": 126,
   "metadata": {},
   "outputs": [
    {
     "data": {
      "text/plain": [
       "np.float64(0.44377156996809275)"
      ]
     },
     "execution_count": 126,
     "metadata": {},
     "output_type": "execute_result"
    }
   ],
   "source": [
    "(((1 - threshes[0]) - 1 / args.L < y_hat) * (y_hat < 1 - threshes[0])).mean()"
   ]
  },
  {
   "cell_type": "code",
   "execution_count": 106,
   "metadata": {},
   "outputs": [
    {
     "data": {
      "text/plain": [
       "np.float64(0.45484144038549196)"
      ]
     },
     "execution_count": 106,
     "metadata": {},
     "output_type": "execute_result"
    }
   ],
   "source": [
    "Y_cv.mean()"
   ]
  },
  {
   "cell_type": "code",
   "execution_count": 125,
   "metadata": {},
   "outputs": [
    {
     "data": {
      "image/png": "[encoded data removed]",
      "text/plain": [
       "<Figure size 800x500 with 1 Axes>"
      ]
     },
     "metadata": {},
     "output_type": "display_data"
    }
   ],
   "source": [
    "plt.figure(figsize=(8, 5))\n",
    "\n",
    "# Plot histogram of y_hat\n",
    "counts, bins, _ = plt.hist(y_hat, bins=30, density=True, color='skyblue', edgecolor='black', alpha=0.75, label='Histogram of y_hat')\n",
    "\n",
    "# Overlay horizontal line for uniform distribution\n",
    "plt.axhline(y=1, color='red', linestyle='--', linewidth=2, label='Uniform Distribution Density')\n",
    "\n",
    "plt.axvline(x=1 - threshes[0], color='green', linestyle='--', linewidth=2, label=r'$1-\\lambda_1$')\n",
    "plt.axvline(x=1 - threshes[0] - 1/args.L, color='green', linestyle='--', linewidth=2, label=r'$1-\\lambda_1-1/L$')\n",
    "\n",
    "# Labels and legend\n",
    "plt.xlabel('y_hat')\n",
    "plt.ylabel('Density')\n",
    "plt.title('Histogram of y_hat')\n",
    "plt.legend()\n",
    "plt.grid(True)\n",
    "\n",
    "# Show plot\n",
    "plt.show()"
   ]
  },
  {
   "cell_type": "code",
   "execution_count": 114,
   "metadata": {},
   "outputs": [
    {
     "data": {
      "text/plain": [
       "array([ True,  True,  True, ...,  True, False, False], shape=(15357,))"
      ]
     },
     "execution_count": 114,
     "metadata": {},
     "output_type": "execute_result"
    }
   ],
   "source": [
    "((1 - threshes[0]) - 1 / args.L < y_hat) * (y_hat < 1 - threshes[0])"
   ]
  },
  {
   "cell_type": "code",
   "execution_count": 111,
   "metadata": {},
   "outputs": [
    {
     "data": {
      "text/plain": [
       "np.float64(0.7224718369473204)"
      ]
     },
     "execution_count": 111,
     "metadata": {},
     "output_type": "execute_result"
    }
   ],
   "source": [
    "(y_hat < 1 - threshes[0]).mean()"
   ]
  },
  {
   "cell_type": "code",
   "execution_count": null,
   "metadata": {},
   "outputs": [
    {
     "ename": "ValueError",
     "evalue": "The truth value of an array with more than one element is ambiguous. Use a.any() or a.all()",
     "output_type": "error",
     "traceback": [
      "\u001b[0;31m---------------------------------------------------------------------------\u001b[0m",
      "\u001b[0;31mValueError\u001b[0m                                Traceback (most recent call last)",
      "Cell \u001b[0;32mIn[108], line 1\u001b[0m\n\u001b[0;32m----> 1\u001b[0m ((\u001b[38;5;241m1\u001b[39m \u001b[38;5;241m-\u001b[39m threshes[\u001b[38;5;241m0\u001b[39m]) \u001b[38;5;241m-\u001b[39m \u001b[38;5;241m1\u001b[39m \u001b[38;5;241m/\u001b[39m args\u001b[38;5;241m.\u001b[39mL \u001b[38;5;241m<\u001b[39m y_hat \u001b[38;5;241m<\u001b[39m \u001b[38;5;241m1\u001b[39m \u001b[38;5;241m-\u001b[39m threshes[\u001b[38;5;241m0\u001b[39m])\u001b[38;5;241m.\u001b[39mmean()\n",
      "\u001b[0;31mValueError\u001b[0m: The truth value of an array with more than one element is ambiguous. Use a.any() or a.all()"
     ]
    }
   ],
   "source": [
    "((1 - threshes[0]) - 1 / args.L < y_hat < 1 - threshes[0])"
   ]
  },
  {
   "cell_type": "code",
   "execution_count": 105,
   "metadata": {},
   "outputs": [
    {
     "data": {
      "text/plain": [
       "np.float64(0.45484144038549196)"
      ]
     },
     "execution_count": 105,
     "metadata": {},
     "output_type": "execute_result"
    }
   ],
   "source": [
    "indicator.mean()"
   ]
  },
  {
   "cell_type": "code",
   "execution_count": 29,
   "metadata": {},
   "outputs": [
    {
     "name": "stderr",
     "output_type": "stream",
     "text": [
      "100%|██████████| 10/10 [01:00<00:00,  6.00s/it]\n"
     ]
    },
    {
     "data": {
      "text/plain": [
       "np.float64(0.00013503396087798103)"
      ]
     },
     "execution_count": 29,
     "metadata": {},
     "output_type": "execute_result"
    }
   ],
   "source": [
    "max_diff = simulate_thresh_sensitivity(X_cv, Y_cv, num_trials=10)\n",
    "max_diff"
   ]
  },
  {
   "cell_type": "code",
   "execution_count": null,
   "metadata": {},
   "outputs": [],
   "source": []
  }
 ],
 "metadata": {
  "kernelspec": {
   "display_name": "rcpp",
   "language": "python",
   "name": "python3"
  },
  "language_info": {
   "codemirror_mode": {
    "name": "ipython",
    "version": 3
   },
   "file_extension": ".py",
   "mimetype": "text/x-python",
   "name": "python",
   "nbconvert_exporter": "python",
   "pygments_lexer": "ipython3",
   "version": "3.12.9"
  }
 },
 "nbformat": 4,
 "nbformat_minor": 2
}
